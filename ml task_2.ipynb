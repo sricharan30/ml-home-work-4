{
 "cells": [
  {
   "cell_type": "code",
   "execution_count": 1,
   "id": "464f7658",
   "metadata": {},
   "outputs": [],
   "source": [
    "import numpy as np \n",
    "import pandas as pd \n",
    "import matplotlib.pyplot as plt\n",
    "from surprise import KNNBasic, SVD, Reader, accuracy, Dataset\n",
    "from surprise.model_selection import cross_validate, train_test_split\n",
    "%matplotlib inline"
   ]
  },
  {
   "cell_type": "code",
   "execution_count": 2,
   "id": "9070cb9e",
   "metadata": {},
   "outputs": [
    {
     "data": {
      "text/html": [
       "<div>\n",
       "<style scoped>\n",
       "    .dataframe tbody tr th:only-of-type {\n",
       "        vertical-align: middle;\n",
       "    }\n",
       "\n",
       "    .dataframe tbody tr th {\n",
       "        vertical-align: top;\n",
       "    }\n",
       "\n",
       "    .dataframe thead th {\n",
       "        text-align: right;\n",
       "    }\n",
       "</style>\n",
       "<table border=\"1\" class=\"dataframe\">\n",
       "  <thead>\n",
       "    <tr style=\"text-align: right;\">\n",
       "      <th></th>\n",
       "      <th>userId</th>\n",
       "      <th>movieId</th>\n",
       "      <th>rating</th>\n",
       "      <th>timestamp</th>\n",
       "    </tr>\n",
       "  </thead>\n",
       "  <tbody>\n",
       "    <tr>\n",
       "      <th>0</th>\n",
       "      <td>1</td>\n",
       "      <td>31</td>\n",
       "      <td>2.5</td>\n",
       "      <td>1260759144</td>\n",
       "    </tr>\n",
       "    <tr>\n",
       "      <th>1</th>\n",
       "      <td>1</td>\n",
       "      <td>1029</td>\n",
       "      <td>3.0</td>\n",
       "      <td>1260759179</td>\n",
       "    </tr>\n",
       "    <tr>\n",
       "      <th>2</th>\n",
       "      <td>1</td>\n",
       "      <td>1061</td>\n",
       "      <td>3.0</td>\n",
       "      <td>1260759182</td>\n",
       "    </tr>\n",
       "    <tr>\n",
       "      <th>3</th>\n",
       "      <td>1</td>\n",
       "      <td>1129</td>\n",
       "      <td>2.0</td>\n",
       "      <td>1260759185</td>\n",
       "    </tr>\n",
       "    <tr>\n",
       "      <th>4</th>\n",
       "      <td>1</td>\n",
       "      <td>1172</td>\n",
       "      <td>4.0</td>\n",
       "      <td>1260759205</td>\n",
       "    </tr>\n",
       "    <tr>\n",
       "      <th>...</th>\n",
       "      <td>...</td>\n",
       "      <td>...</td>\n",
       "      <td>...</td>\n",
       "      <td>...</td>\n",
       "    </tr>\n",
       "    <tr>\n",
       "      <th>99999</th>\n",
       "      <td>671</td>\n",
       "      <td>6268</td>\n",
       "      <td>2.5</td>\n",
       "      <td>1065579370</td>\n",
       "    </tr>\n",
       "    <tr>\n",
       "      <th>100000</th>\n",
       "      <td>671</td>\n",
       "      <td>6269</td>\n",
       "      <td>4.0</td>\n",
       "      <td>1065149201</td>\n",
       "    </tr>\n",
       "    <tr>\n",
       "      <th>100001</th>\n",
       "      <td>671</td>\n",
       "      <td>6365</td>\n",
       "      <td>4.0</td>\n",
       "      <td>1070940363</td>\n",
       "    </tr>\n",
       "    <tr>\n",
       "      <th>100002</th>\n",
       "      <td>671</td>\n",
       "      <td>6385</td>\n",
       "      <td>2.5</td>\n",
       "      <td>1070979663</td>\n",
       "    </tr>\n",
       "    <tr>\n",
       "      <th>100003</th>\n",
       "      <td>671</td>\n",
       "      <td>6565</td>\n",
       "      <td>3.5</td>\n",
       "      <td>1074784724</td>\n",
       "    </tr>\n",
       "  </tbody>\n",
       "</table>\n",
       "<p>100004 rows × 4 columns</p>\n",
       "</div>"
      ],
      "text/plain": [
       "        userId  movieId  rating   timestamp\n",
       "0            1       31     2.5  1260759144\n",
       "1            1     1029     3.0  1260759179\n",
       "2            1     1061     3.0  1260759182\n",
       "3            1     1129     2.0  1260759185\n",
       "4            1     1172     4.0  1260759205\n",
       "...        ...      ...     ...         ...\n",
       "99999      671     6268     2.5  1065579370\n",
       "100000     671     6269     4.0  1065149201\n",
       "100001     671     6365     4.0  1070940363\n",
       "100002     671     6385     2.5  1070979663\n",
       "100003     671     6565     3.5  1074784724\n",
       "\n",
       "[100004 rows x 4 columns]"
      ]
     },
     "execution_count": 2,
     "metadata": {},
     "output_type": "execute_result"
    }
   ],
   "source": [
    "ratings = pd.read_csv('ratings_small.csv')\n",
    "ratings"
   ]
  },
  {
   "cell_type": "code",
   "execution_count": 3,
   "id": "96c83cb5",
   "metadata": {},
   "outputs": [],
   "source": [
    "reader = Reader()\n",
    "data = Dataset.load_from_df(ratings[['userId', 'movieId', 'rating']], reader)"
   ]
  },
  {
   "cell_type": "code",
   "execution_count": 4,
   "id": "43b4b6ff",
   "metadata": {},
   "outputs": [
    {
     "name": "stdout",
     "output_type": "stream",
     "text": [
      "Evaluating RMSE, MAE of algorithm SVD on 5 split(s).\n",
      "\n",
      "                  Fold 1  Fold 2  Fold 3  Fold 4  Fold 5  Mean    Std     \n",
      "RMSE (testset)    1.0149  1.0095  1.0051  1.0054  1.0127  1.0095  0.0039  \n",
      "MAE (testset)     0.7856  0.7806  0.7737  0.7788  0.7822  0.7802  0.0039  \n",
      "Fit time          0.36    0.36    0.37    0.36    0.36    0.36    0.00    \n",
      "Test time         0.06    0.09    0.06    0.05    0.09    0.07    0.02    \n"
     ]
    }
   ],
   "source": [
    "pmf_svd = SVD(biased = False)\n",
    "cv_pmf = cross_validate(pmf_svd, data, measures=['RMSE', 'MAE'], cv=5, verbose=True);"
   ]
  },
  {
   "cell_type": "code",
   "execution_count": 127,
   "id": "45751413",
   "metadata": {},
   "outputs": [
    {
     "data": {
      "text/plain": [
       "<AxesSubplot:ylabel='Frequency'>"
      ]
     },
     "execution_count": 127,
     "metadata": {},
     "output_type": "execute_result"
    },
    {
     "data": {
      "image/png": "[encoded data removed]",
      "text/plain": [
       "<Figure size 1080x216 with 1 Axes>"
      ]
     },
     "metadata": {
      "needs_background": "light"
     },
     "output_type": "display_data"
    }
   ],
   "source": [
    "ratings[\"movieId\"].fillna(ratings[\"movieId\"].median(), inplace=True)\n",
    "ratings[\"rating\"].fillna(ratings[\"rating\"].median(), inplace=True)\n",
    "ratings['movieId'] = ratings['movieId'].astype(int)\n",
    "ratings['rating'] = ratings['rating'].astype(int)\n",
    "ratings['movieId'].plot(kind='hist', figsize=(15,3),bins=100, xlim=(0,50))\n",
    "ratings['rating'].plot(kind='hist', figsize=(15,3),bins=100, xlim=(0,50))"
   ]
  },
  {
   "cell_type": "code",
   "execution_count": 132,
   "id": "b308432b",
   "metadata": {},
   "outputs": [
    {
     "data": {
      "image/png": "[encoded data removed]",
      "text/plain": [
       "<Figure size 432x288 with 1 Axes>"
      ]
     },
     "metadata": {
      "needs_background": "light"
     },
     "output_type": "display_data"
    },
    {
     "data": {
      "image/png": "[encoded data removed]",
      "text/plain": [
       "<Figure size 432x288 with 1 Axes>"
      ]
     },
     "metadata": {
      "needs_background": "light"
     },
     "output_type": "display_data"
    },
    {
     "data": {
      "image/png": "[encoded data removed]",
      "text/plain": [
       "<Figure size 432x288 with 1 Axes>"
      ]
     },
     "metadata": {
      "needs_background": "light"
     },
     "output_type": "display_data"
    },
    {
     "data": {
      "image/png": "[encoded data removed]",
      "text/plain": [
       "<Figure size 432x288 with 1 Axes>"
      ]
     },
     "metadata": {
      "needs_background": "light"
     },
     "output_type": "display_data"
    }
   ],
   "source": [
    "for i in ratings.columns:\n",
    "    plt.hist(ratings[i])\n",
    "    plt.title(i)\n",
    "    plt.show()"
   ]
  },
  {
   "cell_type": "code",
   "execution_count": 5,
   "id": "f058ab5b",
   "metadata": {},
   "outputs": [
    {
     "data": {
      "text/plain": [
       "{'test_rmse': array([1.01492425, 1.00951029, 1.00506726, 1.00544326, 1.01269379]),\n",
       " 'test_mae': array([0.78563667, 0.78056832, 0.7736994 , 0.7787571 , 0.78216605]),\n",
       " 'fit_time': (0.36100006103515625,\n",
       "  0.3602159023284912,\n",
       "  0.369732141494751,\n",
       "  0.3620131015777588,\n",
       "  0.36469507217407227),\n",
       " 'test_time': (0.05721116065979004,\n",
       "  0.09023571014404297,\n",
       "  0.05535578727722168,\n",
       "  0.05409884452819824,\n",
       "  0.08899903297424316)}"
      ]
     },
     "execution_count": 5,
     "metadata": {},
     "output_type": "execute_result"
    }
   ],
   "source": [
    "cv_pmf"
   ]
  },
  {
   "cell_type": "code",
   "execution_count": 49,
   "id": "506d2700",
   "metadata": {},
   "outputs": [
    {
     "name": "stdout",
     "output_type": "stream",
     "text": [
      "MAE on a PMF Collaborative Filtering Average:  0.7801655101158292\n",
      "RMSE on average for PMF Collaborative Filtering:  1.0095277704188903\n"
     ]
    }
   ],
   "source": [
    "print('MAE on a PMF Collaborative Filtering Average: ', cv_pmf['test_mae'].mean())\n",
    "print('RMSE on average for PMF Collaborative Filtering: ', cv_pmf['test_rmse'].mean())"
   ]
  },
  {
   "cell_type": "code",
   "execution_count": 7,
   "id": "c2420591",
   "metadata": {},
   "outputs": [
    {
     "name": "stdout",
     "output_type": "stream",
     "text": [
      "Computing the msd similarity matrix...\n",
      "Done computing similarity matrix.\n",
      "Computing the msd similarity matrix...\n",
      "Done computing similarity matrix.\n",
      "Computing the msd similarity matrix...\n",
      "Done computing similarity matrix.\n",
      "Computing the msd similarity matrix...\n",
      "Done computing similarity matrix.\n",
      "Computing the msd similarity matrix...\n",
      "Done computing similarity matrix.\n",
      "Evaluating RMSE, MAE of algorithm KNNBasic on 5 split(s).\n",
      "\n",
      "                  Fold 1  Fold 2  Fold 3  Fold 4  Fold 5  Mean    Std     \n",
      "RMSE (testset)    0.9727  0.9636  0.9637  0.9705  0.9747  0.9690  0.0046  \n",
      "MAE (testset)     0.7498  0.7423  0.7373  0.7436  0.7517  0.7449  0.0052  \n",
      "Fit time          0.04    0.04    0.04    0.04    0.04    0.04    0.00    \n",
      "Test time         0.74    0.75    0.76    0.71    0.75    0.74    0.02    \n"
     ]
    }
   ],
   "source": [
    "sim_options = {'user_based': True}\n",
    "user_based_cf = KNNBasic(sim_options=sim_options)\n",
    "cv_ub = cross_validate(user_based_cf, data, measures=['RMSE', 'MAE'], cv=5, verbose=True);"
   ]
  },
  {
   "cell_type": "code",
   "execution_count": 50,
   "id": "914ee777",
   "metadata": {
    "scrolled": true
   },
   "outputs": [
    {
     "name": "stdout",
     "output_type": "stream",
     "text": [
      "MAE on a user-based collaborative filtering average:  0.7449410366292268\n",
      "RMSE on a user-based collaborative filtering average:  0.969031945250079\n"
     ]
    }
   ],
   "source": [
    "print('MAE on a user-based collaborative filtering average: ', cv_ub['test_mae'].mean())\n",
    "print('RMSE on a user-based collaborative filtering average: ', cv_ub['test_rmse'].mean())"
   ]
  },
  {
   "cell_type": "code",
   "execution_count": 9,
   "id": "7d99608d",
   "metadata": {},
   "outputs": [
    {
     "name": "stdout",
     "output_type": "stream",
     "text": [
      "Computing the msd similarity matrix...\n",
      "Done computing similarity matrix.\n",
      "Computing the msd similarity matrix...\n",
      "Done computing similarity matrix.\n",
      "Computing the msd similarity matrix...\n",
      "Done computing similarity matrix.\n",
      "Computing the msd similarity matrix...\n",
      "Done computing similarity matrix.\n",
      "Computing the msd similarity matrix...\n",
      "Done computing similarity matrix.\n",
      "Evaluating RMSE, MAE of algorithm KNNBasic on 5 split(s).\n",
      "\n",
      "                  Fold 1  Fold 2  Fold 3  Fold 4  Fold 5  Mean    Std     \n",
      "RMSE (testset)    0.9446  0.9267  0.9365  0.9352  0.9316  0.9349  0.0059  \n",
      "MAE (testset)     0.7260  0.7150  0.7226  0.7213  0.7189  0.7207  0.0037  \n",
      "Fit time          1.66    1.74    1.67    1.63    1.66    1.67    0.04    \n",
      "Test time         3.13    3.05    3.27    3.07    3.11    3.13    0.08    \n"
     ]
    }
   ],
   "source": [
    "sim_options = {'user_based': False}\n",
    "item_based_cf = KNNBasic(sim_options=sim_options)\n",
    "cv_ib = cross_validate(item_based_cf, data, measures=['RMSE', 'MAE'], cv=5, verbose=True);"
   ]
  },
  {
   "cell_type": "code",
   "execution_count": 51,
   "id": "3d526c42",
   "metadata": {},
   "outputs": [
    {
     "name": "stdout",
     "output_type": "stream",
     "text": [
      "Average MAE for Collaborative Filtering Based on Items:  0.7207499132064219\n",
      "Item-based Collaborative Filterings average RMSE:  0.9349154682918049\n"
     ]
    }
   ],
   "source": [
    "print('Average MAE for Collaborative Filtering Based on Items: ', cv_ib['test_mae'].mean())\n",
    "print('Item-based Collaborative Filterings average RMSE: ', cv_ib['test_rmse'].mean())"
   ]
  },
  {
   "cell_type": "code",
   "execution_count": 11,
   "id": "5e458bc4",
   "metadata": {},
   "outputs": [
    {
     "name": "stdout",
     "output_type": "stream",
     "text": [
      "Computing the cosine similarity matrix...\n",
      "Done computing similarity matrix.\n",
      "Computing the cosine similarity matrix...\n",
      "Done computing similarity matrix.\n",
      "Computing the cosine similarity matrix...\n",
      "Done computing similarity matrix.\n",
      "Computing the cosine similarity matrix...\n",
      "Done computing similarity matrix.\n",
      "Computing the cosine similarity matrix...\n",
      "Done computing similarity matrix.\n",
      "Evaluating RMSE, MAE of algorithm KNNBasic on 5 split(s).\n",
      "\n",
      "                  Fold 1  Fold 2  Fold 3  Fold 4  Fold 5  Mean    Std     \n",
      "RMSE (testset)    0.9996  0.9971  0.9907  0.9951  0.9920  0.9949  0.0032  \n",
      "MAE (testset)     0.7704  0.7708  0.7655  0.7689  0.7663  0.7684  0.0021  \n",
      "Fit time          0.05    0.06    0.06    0.06    0.06    0.06    0.00    \n",
      "Test time         0.76    0.80    0.72    0.80    0.73    0.76    0.04    \n"
     ]
    }
   ],
   "source": [
    "sim_options = {'name':'cosine', 'user_based': True}\n",
    "ub_cosine = KNNBasic(sim_options=sim_options);\n",
    "cv_ub_cosine = cross_validate(ub_cosine, data, measures=['RMSE', 'MAE'], cv=5, verbose=True);"
   ]
  },
  {
   "cell_type": "code",
   "execution_count": 12,
   "id": "4a95abb0",
   "metadata": {},
   "outputs": [
    {
     "name": "stdout",
     "output_type": "stream",
     "text": [
      "Computing the msd similarity matrix...\n",
      "Done computing similarity matrix.\n",
      "Computing the msd similarity matrix...\n",
      "Done computing similarity matrix.\n",
      "Computing the msd similarity matrix...\n",
      "Done computing similarity matrix.\n",
      "Computing the msd similarity matrix...\n",
      "Done computing similarity matrix.\n",
      "Computing the msd similarity matrix...\n",
      "Done computing similarity matrix.\n",
      "Evaluating RMSE, MAE of algorithm KNNBasic on 5 split(s).\n",
      "\n",
      "                  Fold 1  Fold 2  Fold 3  Fold 4  Fold 5  Mean    Std     \n",
      "RMSE (testset)    0.9787  0.9576  0.9621  0.9639  0.9711  0.9667  0.0074  \n",
      "MAE (testset)     0.7532  0.7346  0.7400  0.7442  0.7439  0.7432  0.0061  \n",
      "Fit time          0.03    0.04    0.04    0.04    0.04    0.04    0.00    \n",
      "Test time         0.71    0.71    0.72    0.78    0.71    0.73    0.03    \n"
     ]
    }
   ],
   "source": [
    "sim_options = {'name':'msd', 'user_based': True}\n",
    "ub_msd = KNNBasic(sim_options=sim_options);\n",
    "cv_ub_msd = cross_validate(ub_msd, data, measures=['RMSE', 'MAE'], cv=5, verbose=True);"
   ]
  },
  {
   "cell_type": "code",
   "execution_count": 13,
   "id": "b1bd0273",
   "metadata": {},
   "outputs": [
    {
     "name": "stdout",
     "output_type": "stream",
     "text": [
      "Computing the pearson similarity matrix...\n",
      "Done computing similarity matrix.\n",
      "Computing the pearson similarity matrix...\n",
      "Done computing similarity matrix.\n",
      "Computing the pearson similarity matrix...\n",
      "Done computing similarity matrix.\n",
      "Computing the pearson similarity matrix...\n",
      "Done computing similarity matrix.\n",
      "Computing the pearson similarity matrix...\n",
      "Done computing similarity matrix.\n",
      "Evaluating RMSE, MAE of algorithm KNNBasic on 5 split(s).\n",
      "\n",
      "                  Fold 1  Fold 2  Fold 3  Fold 4  Fold 5  Mean    Std     \n",
      "RMSE (testset)    0.9940  0.9968  1.0045  0.9909  1.0042  0.9981  0.0054  \n",
      "MAE (testset)     0.7722  0.7736  0.7767  0.7672  0.7767  0.7733  0.0035  \n",
      "Fit time          0.09    0.08    0.08    0.07    0.07    0.08    0.01    \n",
      "Test time         0.86    0.70    0.78    0.80    0.77    0.78    0.05    \n"
     ]
    }
   ],
   "source": [
    "sim_options = {'name':'pearson', 'user_based': True}\n",
    "ub_pearson = KNNBasic(sim_options=sim_options);\n",
    "cv_ub_pearson = cross_validate(ub_pearson, data, measures=['RMSE', 'MAE'], cv=5, verbose=True);"
   ]
  },
  {
   "cell_type": "code",
   "execution_count": 64,
   "id": "2cfcbbac",
   "metadata": {},
   "outputs": [
    {
     "data": {
      "image/png": "[encoded data removed]",
      "text/plain": [
       "<Figure size 432x288 with 1 Axes>"
      ]
     },
     "metadata": {
      "needs_background": "light"
     },
     "output_type": "display_data"
    }
   ],
   "source": [
    "x = [0,1,2]\n",
    "y_rmse = [cv_ub_cosine['test_rmse'].mean(),cv_ub_msd['test_rmse'].mean(),cv_ub_pearson['test_rmse'].mean()]\n",
    "plt.plot(x, y_rmse)\n",
    "plt.title('Collaborative User-based Filtering')\n",
    "plt.legend(['RMSE'])\n",
    "plt.xticks(x,['Cosine','MSD','Pearson'])\n",
    "plt.xlabel('Similarity')\n",
    "plt.ylabel('Standard Test(RMSE)')\n",
    "plt.show()"
   ]
  },
  {
   "cell_type": "code",
   "execution_count": 66,
   "id": "818775d9",
   "metadata": {},
   "outputs": [
    {
     "data": {
      "image/png": "[encoded data removed]",
      "text/plain": [
       "<Figure size 432x288 with 1 Axes>"
      ]
     },
     "metadata": {
      "needs_background": "light"
     },
     "output_type": "display_data"
    }
   ],
   "source": [
    "x = [0,1,2]\n",
    "y_mae = [cv_ub_cosine['test_mae'].mean(),cv_ub_msd['test_mae'].mean(),cv_ub_pearson['test_mae'].mean()]\n",
    "plt.plot(x, y_mae)\n",
    "plt.title('Collaborative User-based Filtering')\n",
    "plt.legend(['MAE'])\n",
    "plt.xticks(x,['Cosine','MSD','Pearson'])\n",
    "plt.xlabel('Similarity')\n",
    "plt.ylabel('Standard Test(MAE)')\n",
    "plt.show()"
   ]
  },
  {
   "cell_type": "code",
   "execution_count": 15,
   "id": "9edc407e",
   "metadata": {},
   "outputs": [
    {
     "name": "stdout",
     "output_type": "stream",
     "text": [
      "Computing the cosine similarity matrix...\n",
      "Done computing similarity matrix.\n",
      "Computing the cosine similarity matrix...\n",
      "Done computing similarity matrix.\n",
      "Computing the cosine similarity matrix...\n",
      "Done computing similarity matrix.\n",
      "Computing the cosine similarity matrix...\n",
      "Done computing similarity matrix.\n",
      "Computing the cosine similarity matrix...\n",
      "Done computing similarity matrix.\n",
      "Evaluating RMSE, MAE of algorithm KNNBasic on 5 split(s).\n",
      "\n",
      "                  Fold 1  Fold 2  Fold 3  Fold 4  Fold 5  Mean    Std     \n",
      "RMSE (testset)    0.9923  1.0001  1.0027  0.9820  0.9935  0.9941  0.0072  \n",
      "MAE (testset)     0.7749  0.7764  0.7791  0.7636  0.7759  0.7740  0.0054  \n",
      "Fit time          3.45    3.63    3.37    3.30    3.73    3.50    0.16    \n",
      "Test time         3.05    3.12    3.02    3.02    3.22    3.09    0.07    \n"
     ]
    }
   ],
   "source": [
    "sim_options = {'name':'cosine', 'user_based': False}\n",
    "ib_cosine = KNNBasic(sim_options=sim_options);\n",
    "cv_ib_cosine = cross_validate(ib_cosine, data, measures=['RMSE', 'MAE'], cv=5, verbose=True);"
   ]
  },
  {
   "cell_type": "code",
   "execution_count": 16,
   "id": "8453cd6a",
   "metadata": {},
   "outputs": [
    {
     "name": "stdout",
     "output_type": "stream",
     "text": [
      "Computing the msd similarity matrix...\n",
      "Done computing similarity matrix.\n",
      "Computing the msd similarity matrix...\n",
      "Done computing similarity matrix.\n",
      "Computing the msd similarity matrix...\n",
      "Done computing similarity matrix.\n",
      "Computing the msd similarity matrix...\n",
      "Done computing similarity matrix.\n",
      "Computing the msd similarity matrix...\n",
      "Done computing similarity matrix.\n",
      "Evaluating RMSE, MAE of algorithm KNNBasic on 5 split(s).\n",
      "\n",
      "                  Fold 1  Fold 2  Fold 3  Fold 4  Fold 5  Mean    Std     \n",
      "RMSE (testset)    0.9348  0.9315  0.9241  0.9438  0.9414  0.9351  0.0071  \n",
      "MAE (testset)     0.7215  0.7174  0.7155  0.7260  0.7261  0.7213  0.0043  \n",
      "Fit time          1.50    1.50    1.50    1.69    1.58    1.55    0.08    \n",
      "Test time         3.02    3.22    3.11    3.07    3.15    3.11    0.07    \n"
     ]
    }
   ],
   "source": [
    "sim_options = {'name':'msd', 'user_based': False}\n",
    "ib_msd = KNNBasic(sim_options=sim_options);\n",
    "cv_ib_msd = cross_validate(ib_msd, data, measures=['RMSE', 'MAE'], cv=5, verbose=True);"
   ]
  },
  {
   "cell_type": "code",
   "execution_count": 17,
   "id": "cbccad9c",
   "metadata": {},
   "outputs": [
    {
     "name": "stdout",
     "output_type": "stream",
     "text": [
      "Computing the pearson similarity matrix...\n",
      "Done computing similarity matrix.\n",
      "Computing the pearson similarity matrix...\n",
      "Done computing similarity matrix.\n",
      "Computing the pearson similarity matrix...\n",
      "Done computing similarity matrix.\n",
      "Computing the pearson similarity matrix...\n",
      "Done computing similarity matrix.\n",
      "Computing the pearson similarity matrix...\n",
      "Done computing similarity matrix.\n",
      "Evaluating RMSE, MAE of algorithm KNNBasic on 5 split(s).\n",
      "\n",
      "                  Fold 1  Fold 2  Fold 3  Fold 4  Fold 5  Mean    Std     \n",
      "RMSE (testset)    0.9995  0.9993  0.9776  0.9941  0.9779  0.9897  0.0099  \n",
      "MAE (testset)     0.7725  0.7767  0.7601  0.7754  0.7571  0.7684  0.0081  \n",
      "Fit time          6.13    5.54    5.48    5.30    5.61    5.61    0.28    \n",
      "Test time         3.05    3.54    3.08    4.10    3.22    3.40    0.39    \n"
     ]
    }
   ],
   "source": [
    "sim_options = {'name':'pearson', 'user_based': False}\n",
    "ib_pearson = KNNBasic(sim_options=sim_options);\n",
    "cv_ib_pearson = cross_validate(ib_pearson, data, measures=['RMSE', 'MAE'], cv=5, verbose=True);"
   ]
  },
  {
   "cell_type": "code",
   "execution_count": 67,
   "id": "d6e78099",
   "metadata": {},
   "outputs": [
    {
     "data": {
      "image/png": "[encoded data removed]",
      "text/plain": [
       "<Figure size 432x288 with 1 Axes>"
      ]
     },
     "metadata": {
      "needs_background": "light"
     },
     "output_type": "display_data"
    }
   ],
   "source": [
    "x = [0,1,2]\n",
    "y_mae = [cv_ib_cosine['test_mae'].mean(),cv_ib_msd['test_mae'].mean(),cv_ib_pearson['test_mae'].mean()]\n",
    "plt.plot(x, y_mae)\n",
    "plt.title('Collaborative Item-based Filtering(With 5-fold CV)')\n",
    "plt.legend(['MAE'])\n",
    "plt.xticks(x,['Cosine','MSD','Pearson'])\n",
    "plt.xlabel('Similarity')\n",
    "plt.ylabel('Standard Test(MAE)')\n",
    "plt.show()"
   ]
  },
  {
   "cell_type": "code",
   "execution_count": 70,
   "id": "cf4b415c",
   "metadata": {},
   "outputs": [
    {
     "data": {
      "image/png": "[encoded data removed]",
      "text/plain": [
       "<Figure size 432x288 with 1 Axes>"
      ]
     },
     "metadata": {
      "needs_background": "light"
     },
     "output_type": "display_data"
    }
   ],
   "source": [
    "x = [0,1,2]\n",
    "y_rmse = [cv_ib_cosine['test_rmse'].mean(),cv_ib_msd['test_rmse'].mean(),cv_ib_pearson['test_rmse'].mean()]\n",
    "plt.plot(x, y_rmse)\n",
    "plt.title('Collaborative Item-based Filtering')\n",
    "plt.legend(['RMSE'])\n",
    "plt.xticks(x,['Cosine','MSD','Pearson'])\n",
    "plt.xlabel('Similarity')\n",
    "plt.ylabel('Standard Test(RMSE)')\n",
    "plt.show()"
   ]
  },
  {
   "cell_type": "code",
   "execution_count": 38,
   "id": "5a136319",
   "metadata": {},
   "outputs": [
    {
     "name": "stdout",
     "output_type": "stream",
     "text": [
      "Computing the cosine similarity matrix...\n",
      "Done computing similarity matrix.\n",
      "Computing the cosine similarity matrix...\n",
      "Done computing similarity matrix.\n",
      "Computing the cosine similarity matrix...\n",
      "Done computing similarity matrix.\n",
      "Computing the cosine similarity matrix...\n",
      "Done computing similarity matrix.\n",
      "Computing the cosine similarity matrix...\n",
      "Done computing similarity matrix.\n",
      "Evaluating RMSE, MAE of algorithm KNNBasic on 5 split(s).\n",
      "\n",
      "                  Fold 1  Fold 2  Fold 3  Fold 4  Fold 5  Mean    Std     \n",
      "RMSE (testset)    0.9976  0.9950  0.9894  1.0056  0.9892  0.9954  0.0061  \n",
      "MAE (testset)     0.7768  0.7740  0.7696  0.7819  0.7699  0.7744  0.0046  \n",
      "Fit time          3.35    3.79    3.39    3.02    3.06    3.32    0.28    \n",
      "Test time         3.18    3.20    3.12    3.22    3.09    3.16    0.05    \n"
     ]
    }
   ],
   "source": [
    "sim_options = {'name':'cosine', 'user_based': False}\n",
    "ib_cosine = KNNBasic(sim_options=sim_options);\n",
    "cv_ib_cosine = cross_validate(ib_cosine, data, measures=['RMSE', 'MAE'], cv=5, verbose=True);"
   ]
  },
  {
   "cell_type": "code",
   "execution_count": 39,
   "id": "ab3d1176",
   "metadata": {},
   "outputs": [
    {
     "name": "stdout",
     "output_type": "stream",
     "text": [
      "Computing the msd similarity matrix...\n",
      "Done computing similarity matrix.\n",
      "Computing the msd similarity matrix...\n",
      "Done computing similarity matrix.\n",
      "Computing the msd similarity matrix...\n",
      "Done computing similarity matrix.\n",
      "Computing the msd similarity matrix...\n",
      "Done computing similarity matrix.\n",
      "Computing the msd similarity matrix...\n",
      "Done computing similarity matrix.\n",
      "Evaluating RMSE, MAE of algorithm KNNBasic on 5 split(s).\n",
      "\n",
      "                  Fold 1  Fold 2  Fold 3  Fold 4  Fold 5  Mean    Std     \n",
      "RMSE (testset)    0.9397  0.9371  0.9275  0.9342  0.9330  0.9343  0.0041  \n",
      "MAE (testset)     0.7247  0.7255  0.7147  0.7194  0.7204  0.7209  0.0039  \n",
      "Fit time          1.69    1.70    1.60    1.62    1.54    1.63    0.06    \n",
      "Test time         3.23    3.28    3.51    3.21    3.39    3.32    0.11    \n"
     ]
    }
   ],
   "source": [
    "sim_options = {'name':'msd', 'user_based': False}\n",
    "ib_msd = KNNBasic(sim_options=sim_options);\n",
    "cv_ib_msd = cross_validate(ib_msd, data, measures=['RMSE', 'MAE'], cv=5, verbose=True);"
   ]
  },
  {
   "cell_type": "code",
   "execution_count": 40,
   "id": "a03da338",
   "metadata": {},
   "outputs": [],
   "source": [
    "trainset, testset = train_test_split(data, test_size = 0.25, random_state = 42)\n"
   ]
  },
  {
   "cell_type": "code",
   "execution_count": 42,
   "id": "235beba1",
   "metadata": {},
   "outputs": [
    {
     "name": "stdout",
     "output_type": "stream",
     "text": [
      "Computing the msd similarity matrix...\n",
      "Done computing similarity matrix.\n",
      "MAE:  0.9063\n",
      "RMSE: 1.2110\n",
      "Computing the msd similarity matrix...\n",
      "Done computing similarity matrix.\n",
      "MAE:  0.8196\n",
      "RMSE: 1.0739\n",
      "Computing the msd similarity matrix...\n",
      "Done computing similarity matrix.\n",
      "MAE:  0.7878\n",
      "RMSE: 1.0270\n",
      "Computing the msd similarity matrix...\n",
      "Done computing similarity matrix.\n",
      "MAE:  0.7706\n",
      "RMSE: 1.0039\n",
      "Computing the msd similarity matrix...\n",
      "Done computing similarity matrix.\n",
      "MAE:  0.7612\n",
      "RMSE: 0.9913\n",
      "Computing the msd similarity matrix...\n",
      "Done computing similarity matrix.\n",
      "MAE:  0.7537\n",
      "RMSE: 0.9822\n",
      "Computing the msd similarity matrix...\n",
      "Done computing similarity matrix.\n",
      "MAE:  0.7494\n",
      "RMSE: 0.9772\n",
      "Computing the msd similarity matrix...\n",
      "Done computing similarity matrix.\n",
      "MAE:  0.7467\n",
      "RMSE: 0.9740\n",
      "Computing the msd similarity matrix...\n",
      "Done computing similarity matrix.\n",
      "MAE:  0.7451\n",
      "RMSE: 0.9721\n",
      "Computing the msd similarity matrix...\n",
      "Done computing similarity matrix.\n",
      "MAE:  0.7435\n",
      "RMSE: 0.9698\n",
      "Computing the msd similarity matrix...\n",
      "Done computing similarity matrix.\n",
      "MAE:  0.7426\n",
      "RMSE: 0.9684\n",
      "Computing the msd similarity matrix...\n",
      "Done computing similarity matrix.\n",
      "MAE:  0.7418\n",
      "RMSE: 0.9671\n",
      "Computing the msd similarity matrix...\n",
      "Done computing similarity matrix.\n",
      "MAE:  0.7415\n",
      "RMSE: 0.9665\n",
      "Computing the msd similarity matrix...\n",
      "Done computing similarity matrix.\n",
      "MAE:  0.7417\n",
      "RMSE: 0.9664\n",
      "Computing the msd similarity matrix...\n",
      "Done computing similarity matrix.\n",
      "MAE:  0.7420\n",
      "RMSE: 0.9664\n",
      "Computing the msd similarity matrix...\n",
      "Done computing similarity matrix.\n",
      "MAE:  0.7423\n",
      "RMSE: 0.9665\n",
      "Computing the msd similarity matrix...\n",
      "Done computing similarity matrix.\n",
      "MAE:  0.7426\n",
      "RMSE: 0.9666\n",
      "Computing the msd similarity matrix...\n",
      "Done computing similarity matrix.\n",
      "MAE:  0.7426\n",
      "RMSE: 0.9664\n",
      "Computing the msd similarity matrix...\n",
      "Done computing similarity matrix.\n",
      "MAE:  0.7428\n",
      "RMSE: 0.9665\n",
      "Computing the msd similarity matrix...\n",
      "Done computing similarity matrix.\n",
      "MAE:  0.7429\n",
      "RMSE: 0.9666\n",
      "Computing the msd similarity matrix...\n",
      "Done computing similarity matrix.\n",
      "MAE:  0.7431\n",
      "RMSE: 0.9668\n",
      "Computing the msd similarity matrix...\n",
      "Done computing similarity matrix.\n",
      "MAE:  0.7436\n",
      "RMSE: 0.9671\n",
      "Computing the msd similarity matrix...\n",
      "Done computing similarity matrix.\n",
      "MAE:  0.7436\n",
      "RMSE: 0.9670\n",
      "Computing the msd similarity matrix...\n",
      "Done computing similarity matrix.\n",
      "MAE:  0.7436\n",
      "RMSE: 0.9670\n",
      "Computing the msd similarity matrix...\n",
      "Done computing similarity matrix.\n",
      "MAE:  0.7439\n",
      "RMSE: 0.9675\n",
      "Computing the msd similarity matrix...\n",
      "Done computing similarity matrix.\n",
      "MAE:  0.7444\n",
      "RMSE: 0.9678\n",
      "Computing the msd similarity matrix...\n",
      "Done computing similarity matrix.\n",
      "MAE:  0.7449\n",
      "RMSE: 0.9683\n",
      "Computing the msd similarity matrix...\n",
      "Done computing similarity matrix.\n",
      "MAE:  0.7451\n",
      "RMSE: 0.9685\n",
      "Computing the msd similarity matrix...\n",
      "Done computing similarity matrix.\n",
      "MAE:  0.7455\n",
      "RMSE: 0.9688\n",
      "Computing the msd similarity matrix...\n",
      "Done computing similarity matrix.\n",
      "MAE:  0.7458\n",
      "RMSE: 0.9690\n",
      "Computing the msd similarity matrix...\n",
      "Done computing similarity matrix.\n",
      "MAE:  0.7461\n",
      "RMSE: 0.9694\n",
      "Computing the msd similarity matrix...\n",
      "Done computing similarity matrix.\n",
      "MAE:  0.7464\n",
      "RMSE: 0.9697\n",
      "Computing the msd similarity matrix...\n",
      "Done computing similarity matrix.\n",
      "MAE:  0.7467\n",
      "RMSE: 0.9700\n",
      "Computing the msd similarity matrix...\n",
      "Done computing similarity matrix.\n",
      "MAE:  0.7470\n",
      "RMSE: 0.9702\n",
      "Computing the msd similarity matrix...\n",
      "Done computing similarity matrix.\n",
      "MAE:  0.7473\n",
      "RMSE: 0.9704\n",
      "Computing the msd similarity matrix...\n",
      "Done computing similarity matrix.\n",
      "MAE:  0.7475\n",
      "RMSE: 0.9707\n",
      "Computing the msd similarity matrix...\n",
      "Done computing similarity matrix.\n",
      "MAE:  0.7478\n",
      "RMSE: 0.9709\n",
      "Computing the msd similarity matrix...\n",
      "Done computing similarity matrix.\n",
      "MAE:  0.7479\n",
      "RMSE: 0.9710\n",
      "Computing the msd similarity matrix...\n",
      "Done computing similarity matrix.\n",
      "MAE:  0.7482\n",
      "RMSE: 0.9713\n",
      "Computing the msd similarity matrix...\n",
      "Done computing similarity matrix.\n",
      "MAE:  0.7483\n",
      "RMSE: 0.9714\n",
      "Computing the msd similarity matrix...\n",
      "Done computing similarity matrix.\n",
      "MAE:  0.7486\n",
      "RMSE: 0.9716\n",
      "Computing the msd similarity matrix...\n",
      "Done computing similarity matrix.\n",
      "MAE:  0.7487\n",
      "RMSE: 0.9717\n",
      "Computing the msd similarity matrix...\n",
      "Done computing similarity matrix.\n",
      "MAE:  0.7490\n",
      "RMSE: 0.9719\n",
      "Computing the msd similarity matrix...\n",
      "Done computing similarity matrix.\n",
      "MAE:  0.7492\n",
      "RMSE: 0.9721\n",
      "Computing the msd similarity matrix...\n",
      "Done computing similarity matrix.\n",
      "MAE:  0.7494\n",
      "RMSE: 0.9722\n",
      "Computing the msd similarity matrix...\n",
      "Done computing similarity matrix.\n",
      "MAE:  0.7495\n",
      "RMSE: 0.9724\n",
      "Computing the msd similarity matrix...\n",
      "Done computing similarity matrix.\n",
      "MAE:  0.7497\n",
      "RMSE: 0.9726\n",
      "Computing the msd similarity matrix...\n",
      "Done computing similarity matrix.\n",
      "MAE:  0.7498\n",
      "RMSE: 0.9727\n",
      "Computing the msd similarity matrix...\n",
      "Done computing similarity matrix.\n",
      "MAE:  0.7500\n",
      "RMSE: 0.9729\n",
      "Computing the msd similarity matrix...\n",
      "Done computing similarity matrix.\n",
      "MAE:  0.7502\n",
      "RMSE: 0.9731\n",
      "Computing the msd similarity matrix...\n",
      "Done computing similarity matrix.\n",
      "MAE:  0.7503\n",
      "RMSE: 0.9732\n",
      "Computing the msd similarity matrix...\n",
      "Done computing similarity matrix.\n",
      "MAE:  0.7505\n",
      "RMSE: 0.9734\n",
      "Computing the msd similarity matrix...\n",
      "Done computing similarity matrix.\n",
      "MAE:  0.7507\n",
      "RMSE: 0.9735\n",
      "Computing the msd similarity matrix...\n",
      "Done computing similarity matrix.\n",
      "MAE:  0.7508\n",
      "RMSE: 0.9737\n",
      "Computing the msd similarity matrix...\n",
      "Done computing similarity matrix.\n",
      "MAE:  0.7510\n",
      "RMSE: 0.9738\n",
      "Computing the msd similarity matrix...\n",
      "Done computing similarity matrix.\n",
      "MAE:  0.7512\n",
      "RMSE: 0.9740\n",
      "Computing the msd similarity matrix...\n",
      "Done computing similarity matrix.\n",
      "MAE:  0.7513\n",
      "RMSE: 0.9741\n",
      "Computing the msd similarity matrix...\n",
      "Done computing similarity matrix.\n",
      "MAE:  0.7514\n",
      "RMSE: 0.9742\n",
      "Computing the msd similarity matrix...\n",
      "Done computing similarity matrix.\n",
      "MAE:  0.7516\n",
      "RMSE: 0.9744\n"
     ]
    }
   ],
   "source": [
    "ubc_nn_mae = []\n",
    "ubc_nn_rmse = []\n",
    "k1 = list(np.arange(1,60,1))\n",
    "for i in k1:\n",
    "  ubc_nn = KNNBasic(k = i, sim_options = {'user_based' : True})\n",
    "  ubc_nn.fit(trainset)\n",
    "  predictions = ubc_nn.test(testset)\n",
    "  ubc_nn_mae.append(accuracy.mae(predictions))\n",
    "  ubc_nn_rmse.append(accuracy.rmse(predictions))"
   ]
  },
  {
   "cell_type": "code",
   "execution_count": 72,
   "id": "7c82a6ff",
   "metadata": {},
   "outputs": [
    {
     "data": {
      "image/png": "[encoded data removed]",
      "text/plain": [
       "<Figure size 432x288 with 1 Axes>"
      ]
     },
     "metadata": {
      "needs_background": "light"
     },
     "output_type": "display_data"
    }
   ],
   "source": [
    "plt.plot(k1,ubc_nn_mae)\n",
    "plt.xlabel('Amount of Neighbors')\n",
    "plt.ylabel('Testset(MAE)')\n",
    "plt.legend(['MAE'])\n",
    "plt.title('Collaborative User-based Filtering')\n",
    "plt.show()"
   ]
  },
  {
   "cell_type": "code",
   "execution_count": 71,
   "id": "141f4b5c",
   "metadata": {},
   "outputs": [
    {
     "data": {
      "image/png": "[encoded data removed]",
      "text/plain": [
       "<Figure size 432x288 with 1 Axes>"
      ]
     },
     "metadata": {
      "needs_background": "light"
     },
     "output_type": "display_data"
    }
   ],
   "source": [
    "plt.plot(k1,ubc_nn_rmse)\n",
    "plt.xlabel('Amount of Neighbors')\n",
    "plt.ylabel('Testset(RMSE)')\n",
    "plt.legend(['RMSE'])\n",
    "plt.title('Collaborative User-based Filtering')\n",
    "plt.show()"
   ]
  },
  {
   "cell_type": "code",
   "execution_count": 44,
   "id": "9c9cacfb",
   "metadata": {},
   "outputs": [
    {
     "name": "stdout",
     "output_type": "stream",
     "text": [
      "Best Value of K :  15\n",
      "Minimum RMSE :  0.9663589276453397\n"
     ]
    }
   ],
   "source": [
    "k_ubc = ubc_nn_rmse.index(min(ubc_nn_rmse))+1\n",
    "print('Best Value of K : ', k_ubc)\n",
    "print('Minimum RMSE : ', min(ubc_nn_rmse))"
   ]
  },
  {
   "cell_type": "code",
   "execution_count": 45,
   "id": "4c2f18d5",
   "metadata": {},
   "outputs": [
    {
     "name": "stdout",
     "output_type": "stream",
     "text": [
      "Computing the msd similarity matrix...\n",
      "Done computing similarity matrix.\n",
      "MAE:  0.9703\n",
      "RMSE: 1.3138\n",
      "Computing the msd similarity matrix...\n",
      "Done computing similarity matrix.\n",
      "MAE:  0.8749\n",
      "RMSE: 1.1479\n",
      "Computing the msd similarity matrix...\n",
      "Done computing similarity matrix.\n",
      "MAE:  0.8337\n",
      "RMSE: 1.0839\n",
      "Computing the msd similarity matrix...\n",
      "Done computing similarity matrix.\n",
      "MAE:  0.8142\n",
      "RMSE: 1.0514\n",
      "Computing the msd similarity matrix...\n",
      "Done computing similarity matrix.\n",
      "MAE:  0.7966\n",
      "RMSE: 1.0277\n",
      "Computing the msd similarity matrix...\n",
      "Done computing similarity matrix.\n",
      "MAE:  0.7855\n",
      "RMSE: 1.0127\n",
      "Computing the msd similarity matrix...\n",
      "Done computing similarity matrix.\n",
      "MAE:  0.7765\n",
      "RMSE: 1.0013\n",
      "Computing the msd similarity matrix...\n",
      "Done computing similarity matrix.\n",
      "MAE:  0.7706\n",
      "RMSE: 0.9935\n",
      "Computing the msd similarity matrix...\n",
      "Done computing similarity matrix.\n",
      "MAE:  0.7659\n",
      "RMSE: 0.9867\n",
      "Computing the msd similarity matrix...\n",
      "Done computing similarity matrix.\n",
      "MAE:  0.7614\n",
      "RMSE: 0.9816\n",
      "Computing the msd similarity matrix...\n",
      "Done computing similarity matrix.\n",
      "MAE:  0.7581\n",
      "RMSE: 0.9768\n",
      "Computing the msd similarity matrix...\n",
      "Done computing similarity matrix.\n",
      "MAE:  0.7546\n",
      "RMSE: 0.9725\n",
      "Computing the msd similarity matrix...\n",
      "Done computing similarity matrix.\n",
      "MAE:  0.7515\n",
      "RMSE: 0.9687\n",
      "Computing the msd similarity matrix...\n",
      "Done computing similarity matrix.\n",
      "MAE:  0.7491\n",
      "RMSE: 0.9660\n",
      "Computing the msd similarity matrix...\n",
      "Done computing similarity matrix.\n",
      "MAE:  0.7474\n",
      "RMSE: 0.9639\n",
      "Computing the msd similarity matrix...\n",
      "Done computing similarity matrix.\n",
      "MAE:  0.7462\n",
      "RMSE: 0.9620\n",
      "Computing the msd similarity matrix...\n",
      "Done computing similarity matrix.\n",
      "MAE:  0.7445\n",
      "RMSE: 0.9602\n",
      "Computing the msd similarity matrix...\n",
      "Done computing similarity matrix.\n",
      "MAE:  0.7430\n",
      "RMSE: 0.9583\n",
      "Computing the msd similarity matrix...\n",
      "Done computing similarity matrix.\n",
      "MAE:  0.7419\n",
      "RMSE: 0.9569\n",
      "Computing the msd similarity matrix...\n",
      "Done computing similarity matrix.\n",
      "MAE:  0.7406\n",
      "RMSE: 0.9556\n",
      "Computing the msd similarity matrix...\n",
      "Done computing similarity matrix.\n",
      "MAE:  0.7394\n",
      "RMSE: 0.9543\n",
      "Computing the msd similarity matrix...\n",
      "Done computing similarity matrix.\n",
      "MAE:  0.7385\n",
      "RMSE: 0.9534\n",
      "Computing the msd similarity matrix...\n",
      "Done computing similarity matrix.\n",
      "MAE:  0.7378\n",
      "RMSE: 0.9526\n",
      "Computing the msd similarity matrix...\n",
      "Done computing similarity matrix.\n",
      "MAE:  0.7370\n",
      "RMSE: 0.9515\n",
      "Computing the msd similarity matrix...\n",
      "Done computing similarity matrix.\n",
      "MAE:  0.7361\n",
      "RMSE: 0.9505\n",
      "Computing the msd similarity matrix...\n",
      "Done computing similarity matrix.\n",
      "MAE:  0.7355\n",
      "RMSE: 0.9498\n",
      "Computing the msd similarity matrix...\n",
      "Done computing similarity matrix.\n",
      "MAE:  0.7350\n",
      "RMSE: 0.9491\n",
      "Computing the msd similarity matrix...\n",
      "Done computing similarity matrix.\n",
      "MAE:  0.7342\n",
      "RMSE: 0.9482\n",
      "Computing the msd similarity matrix...\n",
      "Done computing similarity matrix.\n",
      "MAE:  0.7339\n",
      "RMSE: 0.9477\n",
      "Computing the msd similarity matrix...\n",
      "Done computing similarity matrix.\n",
      "MAE:  0.7336\n",
      "RMSE: 0.9473\n",
      "Computing the msd similarity matrix...\n",
      "Done computing similarity matrix.\n",
      "MAE:  0.7333\n",
      "RMSE: 0.9469\n",
      "Computing the msd similarity matrix...\n",
      "Done computing similarity matrix.\n",
      "MAE:  0.7331\n",
      "RMSE: 0.9467\n",
      "Computing the msd similarity matrix...\n",
      "Done computing similarity matrix.\n",
      "MAE:  0.7329\n",
      "RMSE: 0.9462\n",
      "Computing the msd similarity matrix...\n",
      "Done computing similarity matrix.\n",
      "MAE:  0.7326\n",
      "RMSE: 0.9460\n",
      "Computing the msd similarity matrix...\n",
      "Done computing similarity matrix.\n",
      "MAE:  0.7325\n",
      "RMSE: 0.9457\n",
      "Computing the msd similarity matrix...\n",
      "Done computing similarity matrix.\n",
      "MAE:  0.7321\n",
      "RMSE: 0.9452\n",
      "Computing the msd similarity matrix...\n",
      "Done computing similarity matrix.\n",
      "MAE:  0.7317\n",
      "RMSE: 0.9448\n",
      "Computing the msd similarity matrix...\n",
      "Done computing similarity matrix.\n",
      "MAE:  0.7315\n",
      "RMSE: 0.9446\n",
      "Computing the msd similarity matrix...\n",
      "Done computing similarity matrix.\n",
      "MAE:  0.7311\n",
      "RMSE: 0.9443\n",
      "Computing the msd similarity matrix...\n",
      "Done computing similarity matrix.\n",
      "MAE:  0.7310\n",
      "RMSE: 0.9441\n",
      "Computing the msd similarity matrix...\n",
      "Done computing similarity matrix.\n",
      "MAE:  0.7307\n",
      "RMSE: 0.9437\n",
      "Computing the msd similarity matrix...\n",
      "Done computing similarity matrix.\n",
      "MAE:  0.7306\n",
      "RMSE: 0.9436\n",
      "Computing the msd similarity matrix...\n",
      "Done computing similarity matrix.\n",
      "MAE:  0.7302\n",
      "RMSE: 0.9433\n",
      "Computing the msd similarity matrix...\n",
      "Done computing similarity matrix.\n",
      "MAE:  0.7301\n",
      "RMSE: 0.9432\n",
      "Computing the msd similarity matrix...\n",
      "Done computing similarity matrix.\n",
      "MAE:  0.7300\n",
      "RMSE: 0.9430\n",
      "Computing the msd similarity matrix...\n",
      "Done computing similarity matrix.\n",
      "MAE:  0.7299\n",
      "RMSE: 0.9430\n",
      "Computing the msd similarity matrix...\n",
      "Done computing similarity matrix.\n",
      "MAE:  0.7297\n",
      "RMSE: 0.9427\n",
      "Computing the msd similarity matrix...\n",
      "Done computing similarity matrix.\n",
      "MAE:  0.7297\n",
      "RMSE: 0.9426\n",
      "Computing the msd similarity matrix...\n",
      "Done computing similarity matrix.\n",
      "MAE:  0.7296\n",
      "RMSE: 0.9425\n",
      "Computing the msd similarity matrix...\n",
      "Done computing similarity matrix.\n",
      "MAE:  0.7295\n",
      "RMSE: 0.9424\n",
      "Computing the msd similarity matrix...\n",
      "Done computing similarity matrix.\n",
      "MAE:  0.7296\n",
      "RMSE: 0.9425\n",
      "Computing the msd similarity matrix...\n",
      "Done computing similarity matrix.\n",
      "MAE:  0.7296\n",
      "RMSE: 0.9424\n",
      "Computing the msd similarity matrix...\n",
      "Done computing similarity matrix.\n",
      "MAE:  0.7296\n",
      "RMSE: 0.9424\n",
      "Computing the msd similarity matrix...\n",
      "Done computing similarity matrix.\n",
      "MAE:  0.7296\n",
      "RMSE: 0.9423\n",
      "Computing the msd similarity matrix...\n",
      "Done computing similarity matrix.\n",
      "MAE:  0.7295\n",
      "RMSE: 0.9422\n",
      "Computing the msd similarity matrix...\n",
      "Done computing similarity matrix.\n",
      "MAE:  0.7294\n",
      "RMSE: 0.9421\n",
      "Computing the msd similarity matrix...\n",
      "Done computing similarity matrix.\n",
      "MAE:  0.7293\n",
      "RMSE: 0.9420\n",
      "Computing the msd similarity matrix...\n",
      "Done computing similarity matrix.\n",
      "MAE:  0.7293\n",
      "RMSE: 0.9419\n",
      "Computing the msd similarity matrix...\n",
      "Done computing similarity matrix.\n",
      "MAE:  0.7293\n",
      "RMSE: 0.9418\n"
     ]
    }
   ],
   "source": [
    "ibc_nn_mae = []\n",
    "ibc_nn_rmse = []\n",
    "for i in k1:\n",
    "  ibc_nn = KNNBasic(k = i, sim_options = {'user_based' : False})\n",
    "  ibc_nn.fit(trainset)\n",
    "  predictions = ibc_nn.test(testset)\n",
    "  ibc_nn_mae.append(accuracy.mae(predictions))\n",
    "  ibc_nn_rmse.append(accuracy.rmse(predictions))"
   ]
  },
  {
   "cell_type": "code",
   "execution_count": 73,
   "id": "50818929",
   "metadata": {},
   "outputs": [
    {
     "data": {
      "image/png": "[encoded data removed]",
      "text/plain": [
       "<Figure size 432x288 with 1 Axes>"
      ]
     },
     "metadata": {
      "needs_background": "light"
     },
     "output_type": "display_data"
    }
   ],
   "source": [
    "plt.plot(k1,ibc_nn_mae)\n",
    "plt.xlabel('Amount of Neighbors')\n",
    "plt.ylabel('Testset(MAE)')\n",
    "plt.legend(['MAE'])\n",
    "plt.title('CollaborativeItem-based Filtering')\n",
    "plt.show()"
   ]
  },
  {
   "cell_type": "code",
   "execution_count": 74,
   "id": "80dc2880",
   "metadata": {},
   "outputs": [
    {
     "data": {
      "image/png": "[encoded data removed]",
      "text/plain": [
       "<Figure size 432x288 with 1 Axes>"
      ]
     },
     "metadata": {
      "needs_background": "light"
     },
     "output_type": "display_data"
    }
   ],
   "source": [
    "plt.plot(k1,ibc_nn_rmse)\n",
    "plt.xlabel('Amount of Neighbors')\n",
    "plt.ylabel('Testset(RMSE)')\n",
    "plt.legend(['RMSE'])\n",
    "plt.title('CollaborativeItem-based Filtering')\n",
    "plt.show()"
   ]
  },
  {
   "cell_type": "code",
   "execution_count": 48,
   "id": "b5c990de",
   "metadata": {},
   "outputs": [
    {
     "name": "stdout",
     "output_type": "stream",
     "text": [
      "Best Value of K :  59\n",
      "Minimum RMSE :  0.941847186952282\n"
     ]
    }
   ],
   "source": [
    "k_ibc = ibc_nn_rmse.index(min(ibc_nn_rmse))+1\n",
    "print('Best Value of K : ', k_ibc)\n",
    "print('Minimum RMSE : ', min(ibc_nn_rmse))"
   ]
  },
  {
   "cell_type": "code",
   "execution_count": null,
   "id": "26300218",
   "metadata": {},
   "outputs": [],
   "source": []
  }
 ],
 "metadata": {
  "kernelspec": {
   "display_name": "Python 3 (ipykernel)",
   "language": "python",
   "name": "python3"
  },
  "language_info": {
   "codemirror_mode": {
    "name": "ipython",
    "version": 3
   },
   "file_extension": ".py",
   "mimetype": "text/x-python",
   "name": "python",
   "nbconvert_exporter": "python",
   "pygments_lexer": "ipython3",
   "version": "3.9.12"
  }
 },
 "nbformat": 4,
 "nbformat_minor": 5
}
