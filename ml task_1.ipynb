{
 "cells": [
  {
   "cell_type": "code",
   "execution_count": 66,
   "id": "176196ea",
   "metadata": {},
   "outputs": [],
   "source": [
    "import numpy as np\n",
    "import pandas as pd\n",
    "#from sklearn.cluster import KMeans\n",
    "import scipy \n",
    "import sklearn\n",
    "from collections import Counter\n",
    "from sklearn.metrics import multilabel_confusion_matrix\n",
    "from scipy import spatial"
   ]
  },
  {
   "cell_type": "code",
   "execution_count": 67,
   "id": "fe5b2262",
   "metadata": {},
   "outputs": [],
   "source": [
    "data = pd.read_csv('data.csv')\n",
    "labels = pd.read_csv('label.csv',names=['label'],header=None)"
   ]
  },
  {
   "cell_type": "code",
   "execution_count": 68,
   "id": "4112cee8",
   "metadata": {},
   "outputs": [
    {
     "data": {
      "text/html": [
       "<div>\n",
       "<style scoped>\n",
       "    .dataframe tbody tr th:only-of-type {\n",
       "        vertical-align: middle;\n",
       "    }\n",
       "\n",
       "    .dataframe tbody tr th {\n",
       "        vertical-align: top;\n",
       "    }\n",
       "\n",
       "    .dataframe thead th {\n",
       "        text-align: right;\n",
       "    }\n",
       "</style>\n",
       "<table border=\"1\" class=\"dataframe\">\n",
       "  <thead>\n",
       "    <tr style=\"text-align: right;\">\n",
       "      <th></th>\n",
       "      <th>0</th>\n",
       "      <th>0.1</th>\n",
       "      <th>0.2</th>\n",
       "      <th>0.3</th>\n",
       "      <th>0.4</th>\n",
       "      <th>0.5</th>\n",
       "      <th>0.6</th>\n",
       "      <th>0.7</th>\n",
       "      <th>0.8</th>\n",
       "      <th>0.9</th>\n",
       "      <th>...</th>\n",
       "      <th>0.658</th>\n",
       "      <th>0.659</th>\n",
       "      <th>0.660</th>\n",
       "      <th>0.661</th>\n",
       "      <th>0.662</th>\n",
       "      <th>0.663</th>\n",
       "      <th>0.664</th>\n",
       "      <th>0.665</th>\n",
       "      <th>0.666</th>\n",
       "      <th>0.667</th>\n",
       "    </tr>\n",
       "  </thead>\n",
       "  <tbody>\n",
       "    <tr>\n",
       "      <th>0</th>\n",
       "      <td>0</td>\n",
       "      <td>0</td>\n",
       "      <td>0</td>\n",
       "      <td>0</td>\n",
       "      <td>0</td>\n",
       "      <td>0</td>\n",
       "      <td>0</td>\n",
       "      <td>0</td>\n",
       "      <td>0</td>\n",
       "      <td>0</td>\n",
       "      <td>...</td>\n",
       "      <td>0</td>\n",
       "      <td>0</td>\n",
       "      <td>0</td>\n",
       "      <td>0</td>\n",
       "      <td>0</td>\n",
       "      <td>0</td>\n",
       "      <td>0</td>\n",
       "      <td>0</td>\n",
       "      <td>0</td>\n",
       "      <td>0</td>\n",
       "    </tr>\n",
       "    <tr>\n",
       "      <th>1</th>\n",
       "      <td>0</td>\n",
       "      <td>0</td>\n",
       "      <td>0</td>\n",
       "      <td>0</td>\n",
       "      <td>0</td>\n",
       "      <td>0</td>\n",
       "      <td>0</td>\n",
       "      <td>0</td>\n",
       "      <td>0</td>\n",
       "      <td>0</td>\n",
       "      <td>...</td>\n",
       "      <td>0</td>\n",
       "      <td>0</td>\n",
       "      <td>0</td>\n",
       "      <td>0</td>\n",
       "      <td>0</td>\n",
       "      <td>0</td>\n",
       "      <td>0</td>\n",
       "      <td>0</td>\n",
       "      <td>0</td>\n",
       "      <td>0</td>\n",
       "    </tr>\n",
       "    <tr>\n",
       "      <th>2</th>\n",
       "      <td>0</td>\n",
       "      <td>0</td>\n",
       "      <td>0</td>\n",
       "      <td>0</td>\n",
       "      <td>0</td>\n",
       "      <td>0</td>\n",
       "      <td>0</td>\n",
       "      <td>0</td>\n",
       "      <td>0</td>\n",
       "      <td>0</td>\n",
       "      <td>...</td>\n",
       "      <td>0</td>\n",
       "      <td>0</td>\n",
       "      <td>0</td>\n",
       "      <td>0</td>\n",
       "      <td>0</td>\n",
       "      <td>0</td>\n",
       "      <td>0</td>\n",
       "      <td>0</td>\n",
       "      <td>0</td>\n",
       "      <td>0</td>\n",
       "    </tr>\n",
       "    <tr>\n",
       "      <th>3</th>\n",
       "      <td>0</td>\n",
       "      <td>0</td>\n",
       "      <td>0</td>\n",
       "      <td>0</td>\n",
       "      <td>0</td>\n",
       "      <td>0</td>\n",
       "      <td>0</td>\n",
       "      <td>0</td>\n",
       "      <td>0</td>\n",
       "      <td>0</td>\n",
       "      <td>...</td>\n",
       "      <td>0</td>\n",
       "      <td>0</td>\n",
       "      <td>0</td>\n",
       "      <td>0</td>\n",
       "      <td>0</td>\n",
       "      <td>0</td>\n",
       "      <td>0</td>\n",
       "      <td>0</td>\n",
       "      <td>0</td>\n",
       "      <td>0</td>\n",
       "    </tr>\n",
       "    <tr>\n",
       "      <th>4</th>\n",
       "      <td>0</td>\n",
       "      <td>0</td>\n",
       "      <td>0</td>\n",
       "      <td>0</td>\n",
       "      <td>0</td>\n",
       "      <td>0</td>\n",
       "      <td>0</td>\n",
       "      <td>0</td>\n",
       "      <td>0</td>\n",
       "      <td>0</td>\n",
       "      <td>...</td>\n",
       "      <td>0</td>\n",
       "      <td>0</td>\n",
       "      <td>0</td>\n",
       "      <td>0</td>\n",
       "      <td>0</td>\n",
       "      <td>0</td>\n",
       "      <td>0</td>\n",
       "      <td>0</td>\n",
       "      <td>0</td>\n",
       "      <td>0</td>\n",
       "    </tr>\n",
       "  </tbody>\n",
       "</table>\n",
       "<p>5 rows × 784 columns</p>\n",
       "</div>"
      ],
      "text/plain": [
       "   0  0.1  0.2  0.3  0.4  0.5  0.6  0.7  0.8  0.9  ...  0.658  0.659  0.660  \\\n",
       "0  0    0    0    0    0    0    0    0    0    0  ...      0      0      0   \n",
       "1  0    0    0    0    0    0    0    0    0    0  ...      0      0      0   \n",
       "2  0    0    0    0    0    0    0    0    0    0  ...      0      0      0   \n",
       "3  0    0    0    0    0    0    0    0    0    0  ...      0      0      0   \n",
       "4  0    0    0    0    0    0    0    0    0    0  ...      0      0      0   \n",
       "\n",
       "   0.661  0.662  0.663  0.664  0.665  0.666  0.667  \n",
       "0      0      0      0      0      0      0      0  \n",
       "1      0      0      0      0      0      0      0  \n",
       "2      0      0      0      0      0      0      0  \n",
       "3      0      0      0      0      0      0      0  \n",
       "4      0      0      0      0      0      0      0  \n",
       "\n",
       "[5 rows x 784 columns]"
      ]
     },
     "execution_count": 68,
     "metadata": {},
     "output_type": "execute_result"
    }
   ],
   "source": [
    "data.head()"
   ]
  },
  {
   "cell_type": "code",
   "execution_count": 69,
   "id": "8a8de2fc",
   "metadata": {},
   "outputs": [
    {
     "data": {
      "text/plain": [
       "0        9999\n",
       "0.1      9999\n",
       "0.2      9999\n",
       "0.3      9999\n",
       "0.4      9999\n",
       "         ... \n",
       "0.663    9999\n",
       "0.664    9999\n",
       "0.665    9999\n",
       "0.666    9999\n",
       "0.667    9999\n",
       "Length: 784, dtype: int64"
      ]
     },
     "execution_count": 69,
     "metadata": {},
     "output_type": "execute_result"
    }
   ],
   "source": [
    "data.count()"
   ]
  },
  {
   "cell_type": "code",
   "execution_count": 70,
   "id": "d8a6ae19",
   "metadata": {},
   "outputs": [],
   "source": [
    "#Split data\n",
    "from sklearn.model_selection import train_test_split\n",
    "train_data, txt_data = train_test_split( data, test_size=0.08, random_state=42)\n",
    "train_labels, test_labels = train_test_split( labels, test_size=0.08, random_state=42)"
   ]
  },
  {
   "cell_type": "code",
   "execution_count": 71,
   "id": "f3df13d5",
   "metadata": {},
   "outputs": [],
   "source": [
    "class KMeans:\n",
    "    \n",
    "    def calculate_SSE(self, centroid_value_dict, centroid_dict,data):\n",
    "        sse_data = 0\n",
    "        for i in centroid_dict:\n",
    "            sse_cluster = 0\n",
    "            # np.sum()\n",
    "            for j in centroid_dict[i]:\n",
    "                dp = list(data.iloc[int(j)])\n",
    "                for a,b in zip(centroid_value_dict[i],dp):\n",
    "                    sse_cluster += (a-b)**2\n",
    "            sse_data+=sse_cluster\n",
    "        return sse_data    \n",
    "    \n",
    "    def Initialize_Centroids(self,data,K):\n",
    "        m = data.shape[0]\n",
    "        centroid_value_dict={}\n",
    "        for i in range(K):\n",
    "            r = np.random.randint(0, m-1)\n",
    "            centroid_value_dict[i] = data.iloc[r]\n",
    "        return centroid_value_dict\n",
    "    \n",
    "    def jaccard_similarity(self,centroid, dp):\n",
    "        intersection = len(list(set(centroid).intersection(dp)))\n",
    "        union = (len(set(centroid)) + len(set(dp))) - intersection\n",
    "        return float(intersection) / union\n",
    "\n",
    "    def train_Kmeans(self,data,K,max_iter=20,mode=1,tol=10):\n",
    "        #Mode = 1 => Euclidean np.linalg.norm(x-list(data.iloc[i,:]))\n",
    "        #Mode = 2 => Jaccard\n",
    "        #Mode = 3 => Cosine\n",
    "        centroid_value_dict = self.Initialize_Centroids(data,K)\n",
    "        new_centroid_value_dict = {}\n",
    "        count = 0\n",
    "        centroid_dict = {}\n",
    "        convergence = False\n",
    "        while((count<max_iter) and not convergence):\n",
    "            \n",
    "            for i in list(centroid_value_dict.keys()):\n",
    "                centroid_dict[i]=[]\n",
    "            for i in range(data.shape[0]):\n",
    "                x = data.iloc[i]\n",
    "                if mode==1 :\n",
    "                    distance_measure = [np.linalg.norm(x-centroid_value_dict[j])  for j in centroid_value_dict]\n",
    "                    idx = np.argmin(distance_measure)\n",
    "                    centroid_dict[idx].append(i)\n",
    "                elif mode==2 :\n",
    "                    distance_measure = [self.jaccard_similarity(list(x),centroid_value_dict[j]) for j in centroid_value_dict]\n",
    "                    idx = np.argmax(distance_measure)\n",
    "                    centroid_dict[idx].append(i)\n",
    "                elif mode==3 :\n",
    "                    distance_measure = [1-scipy.spatial.distance.cosine(x,list(centroid_value_dict[j]))  for j in centroid_value_dict]\n",
    "                    idx = np.argmax(distance_measure)\n",
    "                    centroid_dict[idx].append(i)\n",
    "                \n",
    "                prev_centroids=dict(centroid_value_dict)\n",
    "                \n",
    "            \n",
    "            for i in centroid_dict:\n",
    "                if len(centroid_dict[i]):\n",
    "                    dps_centroid = centroid_dict[i]\n",
    "                    centroid_value_dict[i] = np.average(data.iloc[dps_centroid],axis=0)\n",
    "            \n",
    "            \n",
    "            current_tol=-1\n",
    "            for i in centroid_value_dict:\n",
    "                prev_centroid_point = prev_centroids[i]\n",
    "                new_centroid_point = centroid_value_dict[i]\n",
    "                change = np.sum(np.absolute(new_centroid_point-prev_centroid_point))\n",
    "                current_tol = max(change, current_tol)\n",
    "                \n",
    "            print(\"Tolerance for the Iteration \",count,\": \",current_tol)\n",
    "            \n",
    "            count+=1\n",
    "            if (current_tol<10):\n",
    "                convergence = True\n",
    "                break\n",
    "           # print(\"KMeans Iteration\",count)\n",
    "        return centroid_value_dict,centroid_dict"
   ]
  },
  {
   "cell_type": "code",
   "execution_count": 72,
   "id": "1a0566f6",
   "metadata": {},
   "outputs": [],
   "source": [
    "def predict_cluster_labels(C, S, labels):\n",
    "    '''\n",
    "    Input : C -> Centroids\n",
    "            S -> Set of Indicies corresponding to Centroid C\n",
    "            data -> Data used to form clusters\n",
    "    Output : Returns an array of size K having labels based on majority voting in the cluster\n",
    "    '''\n",
    "    cluster_labels = np.zeros(10,dtype=int)\n",
    "    for c in C:\n",
    "        labels_of_points = []\n",
    "        for point in S[c]:\n",
    "            labels_of_points.extend(labels.iloc[point])\n",
    "        counter = Counter(labels_of_points)\n",
    "        try:\n",
    "            cluster_labels[c] = max(counter, key=counter.get)\n",
    "        except:\n",
    "            cluster_labels[c] = np.random.randint(0,9)\n",
    "    return cluster_labels"
   ]
  },
  {
   "cell_type": "code",
   "execution_count": 73,
   "id": "304320a3",
   "metadata": {},
   "outputs": [],
   "source": [
    "def jaccard_similarity(centroid, dp):\n",
    "        intersection = len(list(set(centroid).intersection(dp)))\n",
    "        union = (len(set(centroid)) + len(set(dp))) - intersection\n",
    "        return float(intersection) / union"
   ]
  },
  {
   "cell_type": "code",
   "execution_count": 74,
   "id": "ed93caaf",
   "metadata": {},
   "outputs": [],
   "source": [
    "def accuracy(centroids, centroid_Labels, txt_data, true_labels, mode=1):\n",
    "    y_true = list(true_labels['label']);\n",
    "    y_pred = []\n",
    "    for index in range(txt_data.shape[0]):\n",
    "        featureset = txt_data.iloc[index]\n",
    "        if mode==1:\n",
    "            distances = [np.linalg.norm(featureset - centroids[centroid]) for centroid in centroids]\n",
    "            classification = distances.index(min(distances))\n",
    "            y_pred.append(centroid_Labels[classification])\n",
    "        elif mode==2:\n",
    "            similarity = [jaccard_similarity(featureset, centroids[centroid]) for centroid in centroids]\n",
    "            classification = similarity.index(max(similarity))\n",
    "            y_pred.append(centroid_Labels[classification]) \n",
    "        elif mode==3:\n",
    "            similarity = [1 - spatial.distance.cosine(featureset, centroids[centroid]) for centroid in centroids]\n",
    "            classification = similarity.index(max(similarity))\n",
    "            y_pred.append(centroid_Labels[classification])\n",
    "    denominator = txt_data.shape[0]\n",
    "    correctly_classified = 0\n",
    "    for i in range(0,len(y_pred)):\n",
    "        if y_true[i] == y_pred[i]:\n",
    "            correctly_classified += 1\n",
    "    accuracy = correctly_classified/denominator\n",
    "    return accuracy"
   ]
  },
  {
   "cell_type": "code",
   "execution_count": 75,
   "id": "d9b54cfe",
   "metadata": {},
   "outputs": [
    {
     "name": "stdout",
     "output_type": "stream",
     "text": [
      "Tolerance for the Iteration  0 :  25008.10947368421\n",
      "Tolerance for the Iteration  1 :  5478.158924741103\n",
      "Tolerance for the Iteration  2 :  3872.870050737668\n",
      "Tolerance for the Iteration  3 :  3517.0231585518104\n",
      "Tolerance for the Iteration  4 :  4550.081517644161\n",
      "Tolerance for the Iteration  5 :  3377.3061325383746\n",
      "Tolerance for the Iteration  6 :  1794.630486593843\n",
      "Tolerance for the Iteration  7 :  1153.5961500115493\n",
      "Tolerance for the Iteration  8 :  1004.7614314115307\n",
      "Tolerance for the Iteration  9 :  761.9693482937989\n",
      "Tolerance for the Iteration  10 :  691.3359157361575\n",
      "Tolerance for the Iteration  11 :  734.2117453115412\n",
      "Tolerance for the Iteration  12 :  745.1058592570221\n",
      "Tolerance for the Iteration  13 :  691.8065674163232\n",
      "Tolerance for the Iteration  14 :  863.8808783317359\n",
      "Tolerance for the Iteration  15 :  1033.7545931129425\n",
      "Tolerance for the Iteration  16 :  852.7893730047883\n",
      "Tolerance for the Iteration  17 :  830.7619762569832\n",
      "Tolerance for the Iteration  18 :  594.183409314363\n",
      "Tolerance for the Iteration  19 :  515.0173513772635\n",
      "Tolerance for the Iteration  20 :  470.28114471510673\n",
      "Tolerance for the Iteration  21 :  362.1980025357849\n",
      "Tolerance for the Iteration  22 :  311.0749339682459\n",
      "Tolerance for the Iteration  23 :  230.57465670326553\n",
      "Tolerance for the Iteration  24 :  264.51582502621926\n",
      "Tolerance for the Iteration  25 :  197.01877930321336\n",
      "Tolerance for the Iteration  26 :  195.38944553796455\n",
      "Tolerance for the Iteration  27 :  169.23649807394577\n",
      "Tolerance for the Iteration  28 :  179.82101197982342\n",
      "Tolerance for the Iteration  29 :  162.8699529447478\n",
      "Tolerance for the Iteration  30 :  178.556012987013\n",
      "Tolerance for the Iteration  31 :  197.78660831921704\n",
      "Tolerance for the Iteration  32 :  159.71765857278115\n",
      "Tolerance for the Iteration  33 :  194.63492063492072\n",
      "Tolerance for the Iteration  34 :  154.24829931972758\n",
      "Tolerance for the Iteration  35 :  162.42628583783113\n",
      "Tolerance for the Iteration  36 :  137.24971751848673\n",
      "Tolerance for the Iteration  37 :  114.8505500017916\n",
      "Tolerance for the Iteration  38 :  91.02043773565639\n",
      "Tolerance for the Iteration  39 :  59.111543705499145\n",
      "Tolerance for the Iteration  40 :  42.42082297707813\n",
      "Tolerance for the Iteration  41 :  30.646422609638996\n",
      "Tolerance for the Iteration  42 :  52.79359718591783\n",
      "Tolerance for the Iteration  43 :  49.967763006088056\n",
      "Tolerance for the Iteration  44 :  36.93114099226034\n",
      "Tolerance for the Iteration  45 :  0.0\n"
     ]
    }
   ],
   "source": [
    "Model_A = KMeans()\n",
    "centroids1,clusters1 = Model_A.train_Kmeans(data,10, max_iter=100,mode=1)"
   ]
  },
  {
   "cell_type": "code",
   "execution_count": 76,
   "id": "b0fc17cb",
   "metadata": {},
   "outputs": [],
   "source": [
    "Euclidean_SSE = Model_A.calculate_SSE(centroids1,clusters1,data)"
   ]
  },
  {
   "cell_type": "code",
   "execution_count": 77,
   "id": "da895600",
   "metadata": {},
   "outputs": [
    {
     "name": "stdout",
     "output_type": "stream",
     "text": [
      "Euclidean SSE: 25473485446.671112\n"
     ]
    }
   ],
   "source": [
    "print(\"Euclidean SSE:\",Euclidean_SSE)"
   ]
  },
  {
   "cell_type": "code",
   "execution_count": 78,
   "id": "d782dfb0",
   "metadata": {},
   "outputs": [
    {
     "data": {
      "text/plain": [
       "array([4, 0, 7, 2, 9, 3, 3, 0, 8, 1])"
      ]
     },
     "execution_count": 78,
     "metadata": {},
     "output_type": "execute_result"
    }
   ],
   "source": [
    "cluster_lab_a = predict_cluster_labels(centroids1,clusters1,labels)\n",
    "cluster_lab_a"
   ]
  },
  {
   "cell_type": "code",
   "execution_count": 79,
   "id": "514f90a7",
   "metadata": {},
   "outputs": [
    {
     "data": {
      "text/plain": [
       "0.06625"
      ]
     },
     "execution_count": 79,
     "metadata": {},
     "output_type": "execute_result"
    }
   ],
   "source": [
    "Acc_Euclidean = accuracy(centroids1, cluster_lab_a,txt_data,test_labels)\n",
    "Acc_Euclidean"
   ]
  },
  {
   "cell_type": "code",
   "execution_count": 80,
   "id": "da0d159a",
   "metadata": {},
   "outputs": [
    {
     "name": "stdout",
     "output_type": "stream",
     "text": [
      "Tolerance for the Iteration  0 :  36246.78698525674\n",
      "Tolerance for the Iteration  1 :  10608.905063968514\n",
      "Tolerance for the Iteration  2 :  6219.683158687381\n",
      "Tolerance for the Iteration  3 :  2991.0590846943596\n",
      "Tolerance for the Iteration  4 :  2339.4272570114153\n",
      "Tolerance for the Iteration  5 :  2641.248626014233\n",
      "Tolerance for the Iteration  6 :  4745.359959909035\n",
      "Tolerance for the Iteration  7 :  1723.4542732505656\n",
      "Tolerance for the Iteration  8 :  1443.5303115121637\n",
      "Tolerance for the Iteration  9 :  781.7453669001505\n",
      "Tolerance for the Iteration  10 :  1510.1749679315758\n",
      "Tolerance for the Iteration  11 :  1308.3374630613744\n",
      "Tolerance for the Iteration  12 :  1970.6197220128724\n",
      "Tolerance for the Iteration  13 :  0.0\n"
     ]
    }
   ],
   "source": [
    "Model_B = KMeans()\n",
    "centroids2,clusters2 = Model_B.train_Kmeans(data,10, max_iter=100,mode=2)\n",
    "Jaccard_SSE = Model_B.calculate_SSE(centroids2,clusters2,data)"
   ]
  },
  {
   "cell_type": "code",
   "execution_count": 81,
   "id": "3b8377d3",
   "metadata": {},
   "outputs": [
    {
     "name": "stdout",
     "output_type": "stream",
     "text": [
      "Jacard SSE: 34361687572.938736\n"
     ]
    }
   ],
   "source": [
    "print(\"Jacard SSE:\",Jaccard_SSE)"
   ]
  },
  {
   "cell_type": "code",
   "execution_count": 82,
   "id": "46cfb58e",
   "metadata": {},
   "outputs": [
    {
     "data": {
      "text/plain": [
       "array([1, 0, 8, 2, 6, 3, 1, 1, 1, 5])"
      ]
     },
     "execution_count": 82,
     "metadata": {},
     "output_type": "execute_result"
    }
   ],
   "source": [
    "cluster_lab_b = predict_cluster_labels(centroids2,clusters2,labels)\n",
    "cluster_lab_b"
   ]
  },
  {
   "cell_type": "code",
   "execution_count": 83,
   "id": "1f6ea614",
   "metadata": {},
   "outputs": [
    {
     "data": {
      "text/plain": [
       "0.115"
      ]
     },
     "execution_count": 83,
     "metadata": {},
     "output_type": "execute_result"
    }
   ],
   "source": [
    "Acc_Jaccard = accuracy(centroids2, cluster_lab_b,txt_data,test_labels)\n",
    "Acc_Jaccard"
   ]
  },
  {
   "cell_type": "code",
   "execution_count": 84,
   "id": "b34a0ccc",
   "metadata": {},
   "outputs": [
    {
     "name": "stdout",
     "output_type": "stream",
     "text": [
      "Tolerance for the Iteration  0 :  30780.160864345737\n",
      "Tolerance for the Iteration  1 :  4764.364272626137\n",
      "Tolerance for the Iteration  2 :  2423.487369653711\n",
      "Tolerance for the Iteration  3 :  2295.17617708124\n",
      "Tolerance for the Iteration  4 :  1904.420332389078\n",
      "Tolerance for the Iteration  5 :  1436.248691145808\n",
      "Tolerance for the Iteration  6 :  1257.9087995920036\n",
      "Tolerance for the Iteration  7 :  1225.5769995531723\n",
      "Tolerance for the Iteration  8 :  893.7499129974178\n",
      "Tolerance for the Iteration  9 :  1220.2700974459194\n",
      "Tolerance for the Iteration  10 :  1615.9089957702877\n",
      "Tolerance for the Iteration  11 :  1651.75835863216\n",
      "Tolerance for the Iteration  12 :  1716.7813104701913\n",
      "Tolerance for the Iteration  13 :  1527.0845556514237\n",
      "Tolerance for the Iteration  14 :  1164.6939703977582\n",
      "Tolerance for the Iteration  15 :  636.1432678528433\n",
      "Tolerance for the Iteration  16 :  495.8264869399854\n",
      "Tolerance for the Iteration  17 :  522.3062313084466\n",
      "Tolerance for the Iteration  18 :  356.4233718709045\n",
      "Tolerance for the Iteration  19 :  347.8995804169491\n",
      "Tolerance for the Iteration  20 :  360.14077923582755\n",
      "Tolerance for the Iteration  21 :  407.0182482395428\n",
      "Tolerance for the Iteration  22 :  437.8821003087339\n",
      "Tolerance for the Iteration  23 :  439.80472521828455\n",
      "Tolerance for the Iteration  24 :  435.67100286442246\n",
      "Tolerance for the Iteration  25 :  458.8858602485045\n",
      "Tolerance for the Iteration  26 :  465.1716165977333\n",
      "Tolerance for the Iteration  27 :  325.84270215224876\n",
      "Tolerance for the Iteration  28 :  303.6562635152666\n",
      "Tolerance for the Iteration  29 :  239.62160819218795\n",
      "Tolerance for the Iteration  30 :  249.68744053282612\n",
      "Tolerance for the Iteration  31 :  308.41457115672154\n",
      "Tolerance for the Iteration  32 :  244.9057394905032\n",
      "Tolerance for the Iteration  33 :  158.20245782258343\n",
      "Tolerance for the Iteration  34 :  154.97825213779112\n",
      "Tolerance for the Iteration  35 :  194.6967689641681\n",
      "Tolerance for the Iteration  36 :  159.6503320233565\n",
      "Tolerance for the Iteration  37 :  146.52276627597024\n",
      "Tolerance for the Iteration  38 :  121.84815006076926\n",
      "Tolerance for the Iteration  39 :  115.8745218236549\n",
      "Tolerance for the Iteration  40 :  130.00069418314587\n",
      "Tolerance for the Iteration  41 :  178.2841831462862\n",
      "Tolerance for the Iteration  42 :  100.6210250627479\n",
      "Tolerance for the Iteration  43 :  134.47748735580302\n",
      "Tolerance for the Iteration  44 :  119.8107426354477\n",
      "Tolerance for the Iteration  45 :  99.52941274916546\n",
      "Tolerance for the Iteration  46 :  98.45515537848594\n",
      "Tolerance for the Iteration  47 :  110.43522095675989\n",
      "Tolerance for the Iteration  48 :  112.49018042555866\n",
      "Tolerance for the Iteration  49 :  130.80165797442737\n",
      "Tolerance for the Iteration  50 :  179.7110921218284\n",
      "Tolerance for the Iteration  51 :  174.10238718476558\n",
      "Tolerance for the Iteration  52 :  115.87643659278362\n",
      "Tolerance for the Iteration  53 :  88.74675324675329\n",
      "Tolerance for the Iteration  54 :  87.22755400237011\n",
      "Tolerance for the Iteration  55 :  82.343298459191\n",
      "Tolerance for the Iteration  56 :  44.72093258791122\n",
      "Tolerance for the Iteration  57 :  86.21783088235287\n",
      "Tolerance for the Iteration  58 :  44.85581837762633\n",
      "Tolerance for the Iteration  59 :  31.122631731756062\n",
      "Tolerance for the Iteration  60 :  22.312499999999886\n",
      "Tolerance for the Iteration  61 :  0.0\n"
     ]
    }
   ],
   "source": [
    "Model_C = KMeans()\n",
    "centroids3,clusters3 = Model_C.train_Kmeans(data,10, max_iter = 100,mode=3)"
   ]
  },
  {
   "cell_type": "code",
   "execution_count": 85,
   "id": "2a7d37bc",
   "metadata": {},
   "outputs": [],
   "source": [
    "Cosine_SSE = Model_C.calculate_SSE(centroids3,clusters3,data)"
   ]
  },
  {
   "cell_type": "code",
   "execution_count": 86,
   "id": "70a8fe06",
   "metadata": {},
   "outputs": [
    {
     "name": "stdout",
     "output_type": "stream",
     "text": [
      "Euclidean_SSE: 25473485446.671112\n",
      "Jacard_SSE: 34361687572.938736\n",
      "Cosine_SSE : 25599732295.95894\n"
     ]
    }
   ],
   "source": [
    "print(\"Euclidean_SSE:\",Euclidean_SSE)\n",
    "print(\"Jacard_SSE:\",Jaccard_SSE)\n",
    "print(\"Cosine_SSE :\",Cosine_SSE)"
   ]
  },
  {
   "cell_type": "code",
   "execution_count": 87,
   "id": "d6873fc2",
   "metadata": {},
   "outputs": [
    {
     "data": {
      "text/plain": [
       "array([3, 0, 1, 7, 2, 0, 9, 6, 3, 4])"
      ]
     },
     "execution_count": 87,
     "metadata": {},
     "output_type": "execute_result"
    }
   ],
   "source": [
    "cluster_labels_c = predict_cluster_labels(centroids3,clusters3,labels)\n",
    "cluster_labels_c"
   ]
  },
  {
   "cell_type": "code",
   "execution_count": 88,
   "id": "0da0b2b3",
   "metadata": {},
   "outputs": [],
   "source": [
    "Acc_Cosine = accuracy(centroids3, cluster_labels_c,txt_data,test_labels)"
   ]
  },
  {
   "cell_type": "code",
   "execution_count": 89,
   "id": "10bd58fc",
   "metadata": {},
   "outputs": [
    {
     "data": {
      "text/plain": [
       "0.085"
      ]
     },
     "execution_count": 89,
     "metadata": {},
     "output_type": "execute_result"
    }
   ],
   "source": [
    "Acc_Euclidean\n",
    "Acc_Jaccard\n",
    "Acc_Cosine"
   ]
  },
  {
   "cell_type": "code",
   "execution_count": 90,
   "id": "dc8a5202",
   "metadata": {},
   "outputs": [
    {
     "name": "stdout",
     "output_type": "stream",
     "text": [
      "Euclidean_acc: 0.06625\n",
      "Jacard_acc: 0.115\n",
      "Cosine_acc : 0.085\n"
     ]
    }
   ],
   "source": [
    "print(\"Euclidean_acc:\",Acc_Euclidean)\n",
    "print(\"Jacard_acc:\",Acc_Jaccard)\n",
    "print(\"Cosine_acc :\",Acc_Cosine)"
   ]
  },
  {
   "cell_type": "code",
   "execution_count": null,
   "id": "78a480df",
   "metadata": {},
   "outputs": [],
   "source": []
  }
 ],
 "metadata": {
  "kernelspec": {
   "display_name": "Python 3 (ipykernel)",
   "language": "python",
   "name": "python3"
  },
  "language_info": {
   "codemirror_mode": {
    "name": "ipython",
    "version": 3
   },
   "file_extension": ".py",
   "mimetype": "text/x-python",
   "name": "python",
   "nbconvert_exporter": "python",
   "pygments_lexer": "ipython3",
   "version": "3.9.12"
  }
 },
 "nbformat": 4,
 "nbformat_minor": 5
}
